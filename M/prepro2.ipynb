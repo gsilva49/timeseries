{
 "cells": [
  {
   "cell_type": "code",
   "execution_count": 1,
   "id": "funny-maine",
   "metadata": {},
   "outputs": [],
   "source": [
    "from pandas import read_csv\n",
    "from datetime import datetime"
   ]
  },
  {
   "cell_type": "code",
   "execution_count": 2,
   "id": "casual-nightlife",
   "metadata": {},
   "outputs": [],
   "source": [
    "#Split time series into a training/test\n",
    "def split_to_train_test(series, test_percent=0.50):\n",
    "    split_point = int(test_percent * len(series))\n",
    "    return series[:-split_point], series[-split_point:]"
   ]
  },
  {
   "cell_type": "code",
   "execution_count": 3,
   "id": "closing-constitution",
   "metadata": {},
   "outputs": [],
   "source": [
    "#Select a percentage from the time series\n",
    "def data_proportion(series, percent=1.0, from_end=True):\n",
    "    if from_end:\n",
    "        series = series[-int(percent * len(series)):]\n",
    "    else:\n",
    "        series = series[:int(percent * len(series))]\n",
    "    return series"
   ]
  },
  {
   "cell_type": "code",
   "execution_count": 4,
   "id": "taken-enhancement",
   "metadata": {},
   "outputs": [],
   "source": [
    "# Specifying data-time order\n",
    "def parser(x):\n",
    "    return datetime.strptime(x, '%d/%m/%Y %H:%M')"
   ]
  },
  {
   "cell_type": "code",
   "execution_count": 5,
   "id": "distinct-asbestos",
   "metadata": {},
   "outputs": [
    {
     "name": "stdout",
     "output_type": "stream",
     "text": [
      "Total data: 7701\n"
     ]
    }
   ],
   "source": [
    "#load data\n",
    "series = read_csv('2000_2021_Brazilian_Northeast_Region_daily_MW_instantaneous_maximum_demand_series.csv - 2000_2021_Brazilian_Northeast_Region_daily_MW_instantaneous_maximum_demand_series_prepro.csv', \n",
    "                  parse_dates=['data'], \n",
    "                  index_col='data',\n",
    "                  squeeze=True)\n",
    "print(f'Total data: {len(series)}')"
   ]
  },
  {
   "cell_type": "code",
   "execution_count": 6,
   "id": "middle-indie",
   "metadata": {},
   "outputs": [],
   "source": [
    "series_per = data_proportion(series, percent=1, from_end=False)"
   ]
  },
  {
   "cell_type": "code",
   "execution_count": 7,
   "id": "collected-label",
   "metadata": {},
   "outputs": [
    {
     "name": "stdout",
     "output_type": "stream",
     "text": [
      "Percentage data: 7701\n"
     ]
    }
   ],
   "source": [
    "print(f'Percentage data: {len(series_per)}')"
   ]
  },
  {
   "cell_type": "code",
   "execution_count": 8,
   "id": "brutal-replication",
   "metadata": {},
   "outputs": [
    {
     "name": "stdout",
     "output_type": "stream",
     "text": [
      "Training 4621, Teste 3080\n"
     ]
    }
   ],
   "source": [
    "#split data\n",
    "train, test = split_to_train_test(series_per, test_percent=0.40)\n",
    "print('Training %d, Teste %d' % (len(train), len(test)))"
   ]
  },
  {
   "cell_type": "code",
   "execution_count": 9,
   "id": "democratic-imaging",
   "metadata": {},
   "outputs": [],
   "source": [
    "train.to_csv('2000_2021_Brazilian_Northeast_Region_daily_MW_instantaneous_maximum_demand_series.csv - 2000_2021_Brazilian_Northeast_Region_daily_MW_instantaneous_maximum_demand_series_train.csv')"
   ]
  },
  {
   "cell_type": "code",
   "execution_count": 10,
   "id": "extra-martial",
   "metadata": {},
   "outputs": [],
   "source": [
    "test.to_csv('2000_2021_Brazilian_Northeast_Region_daily_MW_instantaneous_maximum_demand_series.csv - 2000_2021_Brazilian_Northeast_Region_daily_MW_instantaneous_maximum_demand_series_test.csv')"
   ]
  },
  {
   "cell_type": "code",
   "execution_count": null,
   "id": "international-browser",
   "metadata": {},
   "outputs": [],
   "source": []
  }
 ],
 "metadata": {
  "kernelspec": {
   "display_name": "Python 3",
   "language": "python",
   "name": "python3"
  },
  "language_info": {
   "codemirror_mode": {
    "name": "ipython",
    "version": 3
   },
   "file_extension": ".py",
   "mimetype": "text/x-python",
   "name": "python",
   "nbconvert_exporter": "python",
   "pygments_lexer": "ipython3",
   "version": "3.7.7"
  }
 },
 "nbformat": 4,
 "nbformat_minor": 5
}
