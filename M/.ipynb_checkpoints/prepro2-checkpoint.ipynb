{
 "cells": [
  {
   "cell_type": "code",
   "execution_count": 35,
   "id": "preliminary-pipeline",
   "metadata": {},
   "outputs": [],
   "source": [
    "from pandas import read_csv\n",
    "from datetime import datetime"
   ]
  },
  {
   "cell_type": "code",
   "execution_count": 36,
   "id": "celtic-grove",
   "metadata": {},
   "outputs": [],
   "source": [
    "#Split time series into a training/test\n",
    "def split_to_train_test(series, test_percent=0.50):\n",
    "    split_point = int(test_percent * len(series))\n",
    "    return series[:-split_point], series[-split_point:]"
   ]
  },
  {
   "cell_type": "code",
   "execution_count": 37,
   "id": "aggressive-cameroon",
   "metadata": {},
   "outputs": [],
   "source": [
    "#Select a percentage from the time series\n",
    "def data_proportion(series, percent=1.0, from_end=True):\n",
    "    if from_end:\n",
    "        series = series[-int(percent * len(series)):]\n",
    "    else:\n",
    "        series = series[:int(percent * len(series))]\n",
    "    return series"
   ]
  },
  {
   "cell_type": "code",
   "execution_count": 38,
   "id": "severe-algebra",
   "metadata": {},
   "outputs": [],
   "source": [
    "# Specifying data-time order\n",
    "def parser(x):\n",
    "    return datetime.strptime(x, '%d/%m/%Y %H:%M')"
   ]
  },
  {
   "cell_type": "code",
   "execution_count": 39,
   "id": "identified-separation",
   "metadata": {},
   "outputs": [
    {
     "name": "stdout",
     "output_type": "stream",
     "text": [
      "Total data: 7701\n"
     ]
    }
   ],
   "source": [
    "#load data\n",
    "series = read_csv('timeserie_prepro.csv', \n",
    "                  parse_dates=['data'], \n",
    "                  index_col='data',\n",
    "                  squeeze=True)\n",
    "print(f'Total data: {len(series)}')"
   ]
  },
  {
   "cell_type": "code",
   "execution_count": 40,
   "id": "proprietary-mother",
   "metadata": {},
   "outputs": [],
   "source": [
    "series_per = data_proportion(series, percent=1, from_end=False)"
   ]
  },
  {
   "cell_type": "code",
   "execution_count": 41,
   "id": "accepted-attraction",
   "metadata": {},
   "outputs": [
    {
     "name": "stdout",
     "output_type": "stream",
     "text": [
      "Percentage data: 7701\n"
     ]
    }
   ],
   "source": [
    "print(f'Percentage data: {len(series_per)}')"
   ]
  },
  {
   "cell_type": "code",
   "execution_count": 42,
   "id": "fatty-keyboard",
   "metadata": {},
   "outputs": [
    {
     "name": "stdout",
     "output_type": "stream",
     "text": [
      "Training 4621, Teste 3080\n"
     ]
    }
   ],
   "source": [
    "#split data\n",
    "train, test = split_to_train_test(series_per, test_percent=0.40)\n",
    "print('Training %d, Teste %d' % (len(train), len(test)))"
   ]
  },
  {
   "cell_type": "code",
   "execution_count": 43,
   "id": "contrary-combination",
   "metadata": {},
   "outputs": [],
   "source": [
    "train.to_csv('timeserie_train.csv')"
   ]
  },
  {
   "cell_type": "code",
   "execution_count": 44,
   "id": "permanent-philippines",
   "metadata": {},
   "outputs": [],
   "source": [
    "test.to_csv('timeserie_test.csv')"
   ]
  },
  {
   "cell_type": "code",
   "execution_count": null,
   "id": "tutorial-screening",
   "metadata": {},
   "outputs": [],
   "source": []
  }
 ],
 "metadata": {
  "kernelspec": {
   "display_name": "Python 3",
   "language": "python",
   "name": "python3"
  },
  "language_info": {
   "codemirror_mode": {
    "name": "ipython",
    "version": 3
   },
   "file_extension": ".py",
   "mimetype": "text/x-python",
   "name": "python",
   "nbconvert_exporter": "python",
   "pygments_lexer": "ipython3",
   "version": "3.7.7"
  }
 },
 "nbformat": 4,
 "nbformat_minor": 5
}
