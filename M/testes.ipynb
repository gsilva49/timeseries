{
 "cells": [
  {
   "cell_type": "code",
   "execution_count": 1,
   "id": "forced-balance",
   "metadata": {},
   "outputs": [],
   "source": [
    "from dateutil.parser import parse \n",
    "import matplotlib as mpl\n",
    "import matplotlib.pyplot as plt\n",
    "import seaborn as sns\n",
    "import numpy as np\n",
    "import pandas as pd\n",
    "#plt.rcParams.update({'figure.figsize': (10, 7), 'figure.dpi': 120})\n",
    "\n",
    "from statsmodels.tsa.stattools import adfuller\n",
    "from statsmodels.tsa.stattools import kpss"
   ]
  },
  {
   "cell_type": "code",
   "execution_count": 2,
   "id": "waiting-desire",
   "metadata": {},
   "outputs": [],
   "source": [
    "df = pd.read_csv('2000_2021_Brazilian_Northeast_Region_daily_MW_instantaneous_maximum_demand_series.csv - 2000_2021_Brazilian_Northeast_Region_daily_MW_instantaneous_maximum_demand_series_train.csv', parse_dates=['data'], index_col='data')"
   ]
  },
  {
   "cell_type": "code",
   "execution_count": 3,
   "id": "junior-portrait",
   "metadata": {},
   "outputs": [],
   "source": [
    "def rolling_mean(timeseries):\n",
    "    #Determing rolling statistics\n",
    "    rolmean = timeseries.rolling(365).mean()\n",
    "    rolstd = timeseries.rolling(365).std()\n",
    "\n",
    "    #Plot rolling statistics:\n",
    "    orig = plt.plot(timeseries, color='blue',label='Original')\n",
    "    mean = plt.plot(rolmean, color='red', label='Rolling Mean')\n",
    "    std = plt.plot(rolstd, color='black', label = 'Rolling Std')\n",
    "    plt.legend(loc='best')\n",
    "    plt.title('Rolling Mean & Standard Deviation')\n",
    "    plt.show(block=False)"
   ]
  },
  {
   "cell_type": "code",
   "execution_count": 4,
   "id": "wrong-angle",
   "metadata": {},
   "outputs": [],
   "source": [
    "def test_stationarity(timeseries, sig_level = 0.05): \n",
    "    # ADF Test\n",
    "    print('Results of Dickey-Fuller Test:')\n",
    "    result = adfuller(timeseries, autolag='AIC')\n",
    "    print(f'ADF Statistic: {result[0]}')\n",
    "    print(f'p-value: {result[1]}')\n",
    "    for key, value in result[4].items():\n",
    "        print('Critial Values:')\n",
    "        print(f'   {key}, {value}')\n",
    "    if result[1] > sig_level:\n",
    "        print(\"Passou no Teste\")\n",
    "\n",
    "    # KPSS Test\n",
    "    print('\\nResults of KPSS Test:')\n",
    "    result = kpss(timeseries, regression='c')\n",
    "    print('\\nKPSS Statistic: %f' % result[0])\n",
    "    print('p-value: %f' % result[1])\n",
    "    for key, value in result[3].items():\n",
    "        print('Critial Values:')\n",
    "        print(f'   {key}, {value}')\n",
    "    if result[1] > sig_level:\n",
    "        print(\"Passou no Teste\")"
   ]
  },
  {
   "cell_type": "code",
   "execution_count": 5,
   "id": "colored-rolling",
   "metadata": {},
   "outputs": [
    {
     "data": {
      "image/png": "[encoded data removed]",
      "text/plain": [
       "<Figure size 432x288 with 1 Axes>"
      ]
     },
     "metadata": {
      "needs_background": "light"
     },
     "output_type": "display_data"
    }
   ],
   "source": [
    "rolling_mean(df)"
   ]
  },
  {
   "cell_type": "code",
   "execution_count": 6,
   "id": "normal-wesley",
   "metadata": {},
   "outputs": [
    {
     "name": "stdout",
     "output_type": "stream",
     "text": [
      "Results of Dickey-Fuller Test:\n",
      "ADF Statistic: -1.306867212892195\n",
      "p-value: 0.6260247283558522\n",
      "Critial Values:\n",
      "   1%, -3.431775792471012\n",
      "Critial Values:\n",
      "   5%, -2.862170033676712\n",
      "Critial Values:\n",
      "   10%, -2.567105369822604\n",
      "Passou no Teste\n",
      "\n",
      "Results of KPSS Test:\n",
      "\n",
      "KPSS Statistic: 12.154447\n",
      "p-value: 0.010000\n",
      "Critial Values:\n",
      "   10%, 0.347\n",
      "Critial Values:\n",
      "   5%, 0.463\n",
      "Critial Values:\n",
      "   2.5%, 0.574\n",
      "Critial Values:\n",
      "   1%, 0.739\n"
     ]
    },
    {
     "name": "stderr",
     "output_type": "stream",
     "text": [
      "/Users/nivaldogomes-labcodes/Documents/1 - Projetos-novo/modelagem analitica/.env/lib/python3.7/site-packages/statsmodels/tsa/stattools.py:1875: FutureWarning: The behavior of using nlags=None will change in release 0.13.Currently nlags=None is the same as nlags=\"legacy\", and so a sample-size lag length is used. After the next release, the default will change to be the same as nlags=\"auto\" which uses an automatic lag length selection method. To silence this warning, either use \"auto\" or \"legacy\"\n",
      "  warnings.warn(msg, FutureWarning)\n",
      "/Users/nivaldogomes-labcodes/Documents/1 - Projetos-novo/modelagem analitica/.env/lib/python3.7/site-packages/statsmodels/tsa/stattools.py:1907: InterpolationWarning: The test statistic is outside of the range of p-values available in the\n",
      "look-up table. The actual p-value is smaller than the p-value returned.\n",
      "\n",
      "  warn_msg.format(direction=\"smaller\"), InterpolationWarning\n"
     ]
    }
   ],
   "source": [
    "test_stationarity(df)"
   ]
  },
  {
   "cell_type": "code",
   "execution_count": null,
   "id": "imported-istanbul",
   "metadata": {},
   "outputs": [],
   "source": []
  }
 ],
 "metadata": {
  "kernelspec": {
   "display_name": "Python 3",
   "language": "python",
   "name": "python3"
  },
  "language_info": {
   "codemirror_mode": {
    "name": "ipython",
    "version": 3
   },
   "file_extension": ".py",
   "mimetype": "text/x-python",
   "name": "python",
   "nbconvert_exporter": "python",
   "pygments_lexer": "ipython3",
   "version": "3.7.7"
  }
 },
 "nbformat": 4,
 "nbformat_minor": 5
}
