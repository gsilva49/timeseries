{
 "cells": [
  {
   "cell_type": "code",
   "execution_count": 1,
   "id": "precise-belize",
   "metadata": {},
   "outputs": [],
   "source": [
    "import pandas as pd\n",
    "from pandas import read_csv\n",
    "from sklearn.metrics import mean_squared_error\n",
    "from math import sqrt\n",
    "from matplotlib import pyplot as plt\n",
    "import scipy.stats as stats\n",
    "from scipy.special import inv_boxcox\n",
    "\n",
    "plt.rcParams.update({'figure.figsize': (10, 7), 'figure.dpi': 120})\n",
    "\n",
    "\n",
    "#Split time series into a training/test\n",
    "def split_to_train_test(series, test_percent=0.50):\n",
    "    split_point = int(test_percent * len(series))\n",
    "    return series[:-split_point], series[-split_point:]\n",
    "\n",
    "#Select a percentage from the time series\n",
    "def data_proportion(series, percent=1.0, from_end=True):\n",
    "    if from_end:\n",
    "        series = series[-int(percent * len(series)):]\n",
    "    else:\n",
    "        series = series[:int(percent * len(series))]\n",
    "    return series\n"
   ]
  },
  {
   "cell_type": "code",
   "execution_count": 43,
   "id": "quick-ultimate",
   "metadata": {},
   "outputs": [
    {
     "name": "stdout",
     "output_type": "stream",
     "text": [
      "Total data: 7701\n"
     ]
    }
   ],
   "source": [
    "#load data\n",
    "series = read_csv('timeserie_prepro.csv', \n",
    "                  parse_dates=['data'], \n",
    "                  index_col='data',\n",
    "                  squeeze=True)\n",
    "print(f'Total data: {len(series)}')"
   ]
  },
  {
   "cell_type": "code",
   "execution_count": 44,
   "id": "paperback-spine",
   "metadata": {},
   "outputs": [
    {
     "name": "stdout",
     "output_type": "stream",
     "text": [
      "Percentage data: 3850\n"
     ]
    },
    {
     "data": {
      "text/plain": [
       "data\n",
       "2010-07-18     8872.590\n",
       "2010-07-19     9118.390\n",
       "2010-07-20     9226.760\n",
       "2010-07-21     9231.770\n",
       "2010-07-22     9136.080\n",
       "                ...    \n",
       "2021-01-27    12308.892\n",
       "2021-01-28    12550.095\n",
       "2021-01-29    12413.574\n",
       "2021-01-30    11988.032\n",
       "2021-01-31    11540.266\n",
       "Name: energia, Length: 3850, dtype: float64"
      ]
     },
     "execution_count": 44,
     "metadata": {},
     "output_type": "execute_result"
    }
   ],
   "source": [
    "series_per = data_proportion(series, percent=.5, from_end=True)\n",
    "print(f'Percentage data: {len(series_per)}')\n",
    "\n",
    "series_per"
   ]
  },
  {
   "cell_type": "code",
   "execution_count": 45,
   "id": "suspended-adaptation",
   "metadata": {},
   "outputs": [],
   "source": [
    "series_per_bc , series_per_lambda = stats.boxcox(series_per) "
   ]
  },
  {
   "cell_type": "code",
   "execution_count": 46,
   "id": "promising-strap",
   "metadata": {},
   "outputs": [],
   "source": [
    "for i in range(series_per.size):\n",
    "     series_per[i] = series_per_bc[i]"
   ]
  },
  {
   "cell_type": "code",
   "execution_count": 47,
   "id": "separate-transsexual",
   "metadata": {},
   "outputs": [
    {
     "data": {
      "text/plain": [
       "data\n",
       "2010-07-18    43128.828108\n",
       "2010-07-19    44558.520751\n",
       "2010-07-20    45191.236878\n",
       "2010-07-21    45220.522565\n",
       "2010-07-22    44661.704634\n",
       "                  ...     \n",
       "2021-01-27    63743.028843\n",
       "2021-01-28    65236.517163\n",
       "2021-01-29    64390.513501\n",
       "2021-01-30    61765.089185\n",
       "2021-01-31    59021.957875\n",
       "Name: energia, Length: 3850, dtype: float64"
      ]
     },
     "execution_count": 47,
     "metadata": {},
     "output_type": "execute_result"
    }
   ],
   "source": [
    "series_per"
   ]
  },
  {
   "cell_type": "code",
   "execution_count": 48,
   "id": "published-prairie",
   "metadata": {},
   "outputs": [
    {
     "name": "stdout",
     "output_type": "stream",
     "text": [
      "Training 2310, Teste 1540\n"
     ]
    }
   ],
   "source": [
    "\n",
    "#split data\n",
    "train_bc, test_bc = split_to_train_test(new_series, test_percent=0.40)\n",
    "print('Training %d, Teste %d' % (len(train_bc), len(test_bc)))"
   ]
  },
  {
   "cell_type": "code",
   "execution_count": 49,
   "id": "nasty-rotation",
   "metadata": {},
   "outputs": [],
   "source": [
    "# Prepare data\n",
    "test_bc = test_bc.values\n",
    "train_bc = [x for x in train_bc]\n",
    "\n",
    "# Walk-forward validation\n",
    "predictions = list()\n",
    "\n",
    "for i in range(len(test_bc)):\n",
    "    # Predict\n",
    "    yhat = train_bc[-1]\n",
    "    # Store forecast in list of predictions\n",
    "    predictions.append(yhat)\n",
    "    # Add actual observation to train for the next loop\n",
    "    obs = test_bc[i]\n",
    "    train_bc.append(obs)\n",
    "    #print('>Predicted=%.3f, Expected=%.3f' % (yhat, obs))"
   ]
  },
  {
   "cell_type": "code",
   "execution_count": null,
   "id": "known-classroom",
   "metadata": {},
   "outputs": [],
   "source": []
  }
 ],
 "metadata": {
  "kernelspec": {
   "display_name": "Python 3",
   "language": "python",
   "name": "python3"
  },
  "language_info": {
   "codemirror_mode": {
    "name": "ipython",
    "version": 3
   },
   "file_extension": ".py",
   "mimetype": "text/x-python",
   "name": "python",
   "nbconvert_exporter": "python",
   "pygments_lexer": "ipython3",
   "version": "3.7.7"
  }
 },
 "nbformat": 4,
 "nbformat_minor": 5
}
