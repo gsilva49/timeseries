{
 "cells": [
  {
   "cell_type": "code",
   "execution_count": 1,
   "id": "applicable-proof",
   "metadata": {},
   "outputs": [],
   "source": [
    "import pandas as pd"
   ]
  },
  {
   "cell_type": "code",
   "execution_count": 2,
   "id": "likely-cuisine",
   "metadata": {},
   "outputs": [],
   "source": [
    "#evitar erros tipo 1.215.215 -> 1215.215\n",
    "def rreplace(s, old, new, occurrence):\n",
    "    li = s.rsplit(old, occurrence)\n",
    "    return new.join(li)"
   ]
  },
  {
   "cell_type": "code",
   "execution_count": 3,
   "id": "consistent-spirituality",
   "metadata": {},
   "outputs": [],
   "source": [
    "def format_data(series):\n",
    "    series = series.apply(lambda x: rreplace(x, '.',',',1))\n",
    "    series = series.apply(lambda x: x.replace('.',''))\n",
    "    series = series.apply(lambda x: x.replace(',','.'))\n",
    "    series = series.astype('float')\n",
    "    return series"
   ]
  },
  {
   "cell_type": "code",
   "execution_count": 4,
   "id": "embedded-february",
   "metadata": {},
   "outputs": [],
   "source": [
    "#load de data\n",
    "df = pd.read_csv('2000_2021_Brazilian_Northeast_Region_daily_MW_instantaneous_maximum_demand_series.csv - 2000_2021_Brazilian_Northeast_Region_daily_MW_instantaneous_maximum_demand_series.csv', \n",
    "                 parse_dates=['Data Escala de Tempo 1 DM Simp 4'],\n",
    "                 index_col='Data Escala de Tempo 1 DM Simp 4')"
   ]
  },
  {
   "cell_type": "code",
   "execution_count": 5,
   "id": "conceptual-association",
   "metadata": {},
   "outputs": [],
   "source": [
    "#removing some columns \n",
    "df = df.drop(columns=['Data do Incio da Semana Din Instante DM Simp 4',\n",
    "                 'Data Escala de Tempo 1 DM Simp 4.1', \n",
    "                 'Din Instante', \n",
    "                 'Período Exibido DM Simp 4', \n",
    "                 'Subsistema', \n",
    "                     'Texto Data Incio da Semana Din Instante DM'])"
   ]
  },
  {
   "cell_type": "code",
   "execution_count": 6,
   "id": "settled-tenant",
   "metadata": {},
   "outputs": [],
   "source": [
    "df.rename(columns = {'Selecione Tipo de DM Simp 4':'energia'}, inplace = True)\n",
    "df.index.names = ['data']\n",
    "df = format_data(df.energia)"
   ]
  },
  {
   "cell_type": "code",
   "execution_count": 7,
   "id": "robust-happiness",
   "metadata": {},
   "outputs": [],
   "source": [
    "#saving the dataframe as csv\n",
    "df.to_csv('2000_2021_Brazilian_Northeast_Region_daily_MW_instantaneous_maximum_demand_series.csv - 2000_2021_Brazilian_Northeast_Region_daily_MW_instantaneous_maximum_demand_series_prepro.csv')"
   ]
  },
  {
   "cell_type": "code",
   "execution_count": null,
   "id": "victorian-example",
   "metadata": {},
   "outputs": [],
   "source": []
  }
 ],
 "metadata": {
  "kernelspec": {
   "display_name": "Python 3",
   "language": "python",
   "name": "python3"
  },
  "language_info": {
   "codemirror_mode": {
    "name": "ipython",
    "version": 3
   },
   "file_extension": ".py",
   "mimetype": "text/x-python",
   "name": "python",
   "nbconvert_exporter": "python",
   "pygments_lexer": "ipython3",
   "version": "3.7.7"
  }
 },
 "nbformat": 4,
 "nbformat_minor": 5
}
