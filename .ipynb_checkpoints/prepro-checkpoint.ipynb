{
 "cells": [
  {
   "cell_type": "code",
   "execution_count": 1,
   "id": "unauthorized-perfume",
   "metadata": {},
   "outputs": [],
   "source": [
    "import pandas as pd"
   ]
  },
  {
   "cell_type": "code",
   "execution_count": 2,
   "id": "nearby-anniversary",
   "metadata": {},
   "outputs": [],
   "source": [
    "#evitar erros tipo 1.215.215 -> 1215.215\n",
    "def rreplace(s, old, new, occurrence):\n",
    "    li = s.rsplit(old, occurrence)\n",
    "    return new.join(li)"
   ]
  },
  {
   "cell_type": "code",
   "execution_count": 3,
   "id": "higher-baltimore",
   "metadata": {},
   "outputs": [],
   "source": [
    "def format_data(series):\n",
    "    series = series.apply(lambda x: rreplace(x, '.',',',1))\n",
    "    series = series.apply(lambda x: x.replace('.',''))\n",
    "    series = series.apply(lambda x: x.replace(',','.'))\n",
    "    series = series.astype('float')\n",
    "    return series"
   ]
  },
  {
   "cell_type": "code",
   "execution_count": 4,
   "id": "intended-monaco",
   "metadata": {},
   "outputs": [],
   "source": [
    "#load de data\n",
    "df = pd.read_csv('2000_2021_Brazilian_North_Region_hourly_MWmed_hydroelectric_power_series.csv', parse_dates=['Data Escala de Tempo 1 GE Simp 4'], index_col='Data Escala de Tempo 1 GE Simp 4')"
   ]
  },
  {
   "cell_type": "code",
   "execution_count": 5,
   "id": "personalized-compilation",
   "metadata": {},
   "outputs": [],
   "source": [
    "#removing some columns \n",
    "df = df.drop(columns=['Data Dica',\n",
    "                 'dsc_estado', \n",
    "                 'id_subsistema', \n",
    "                 'nom_tipousinasite', \n",
    "                 'nom_usina2', \n",
    "                 'Período Exibido GE'])"
   ]
  },
  {
   "cell_type": "code",
   "execution_count": 6,
   "id": "delayed-endorsement",
   "metadata": {},
   "outputs": [],
   "source": [
    "df.rename(columns = {'Selecione Tipo de GE Simp 4':'energia'}, inplace = True)\n",
    "df.index.names = ['data']\n",
    "df = format_data(df.energia)"
   ]
  },
  {
   "cell_type": "code",
   "execution_count": 7,
   "id": "embedded-concept",
   "metadata": {},
   "outputs": [],
   "source": [
    "#saving the dataframe as csv\n",
    "df.to_csv('2000_2021_Brazilian_North_Region_hourly_MWmed_hydroelectric_power_series_prepro.csv')"
   ]
  },
  {
   "cell_type": "code",
   "execution_count": null,
   "id": "rising-river",
   "metadata": {},
   "outputs": [],
   "source": []
  }
 ],
 "metadata": {
  "kernelspec": {
   "display_name": "Python 3",
   "language": "python",
   "name": "python3"
  },
  "language_info": {
   "codemirror_mode": {
    "name": "ipython",
    "version": 3
   },
   "file_extension": ".py",
   "mimetype": "text/x-python",
   "name": "python",
   "nbconvert_exporter": "python",
   "pygments_lexer": "ipython3",
   "version": "3.7.7"
  }
 },
 "nbformat": 4,
 "nbformat_minor": 5
}
