{
 "cells": [
  {
   "cell_type": "code",
   "execution_count": 1,
   "id": "incorporate-footwear",
   "metadata": {},
   "outputs": [],
   "source": [
    "from pandas import read_csv\n",
    "from datetime import datetime"
   ]
  },
  {
   "cell_type": "code",
   "execution_count": 2,
   "id": "foreign-seeking",
   "metadata": {},
   "outputs": [],
   "source": [
    "#Split time series into a training/test\n",
    "def split_to_train_test(series, test_percent=0.50):\n",
    "    split_point = int(test_percent * len(series))\n",
    "    return series[:-split_point], series[-split_point:]"
   ]
  },
  {
   "cell_type": "code",
   "execution_count": 3,
   "id": "advanced-philadelphia",
   "metadata": {},
   "outputs": [],
   "source": [
    "#Select a percentage from the time series\n",
    "def data_proportion(series, percent=1.0):\n",
    "    series = series[-int(percent * len(series)):]\n",
    "    return series"
   ]
  },
  {
   "cell_type": "code",
   "execution_count": 4,
   "id": "ranging-venue",
   "metadata": {},
   "outputs": [],
   "source": [
    "# Specifying data-time order\n",
    "def parser(x):\n",
    "    return datetime.strptime(x, '%d/%m/%Y %H:%M')"
   ]
  },
  {
   "cell_type": "code",
   "execution_count": 6,
   "id": "third-rubber",
   "metadata": {},
   "outputs": [
    {
     "name": "stdout",
     "output_type": "stream",
     "text": [
      "Total data: 184782\n"
     ]
    }
   ],
   "source": [
    "#load data\n",
    "series = read_csv('2000_2021_Brazilian_North_Region_hourly_MWmed_hydroelectric_power_series_prepro.csv', \n",
    "                  parse_dates=['data'], \n",
    "                  index_col='data',\n",
    "                  squeeze=True)\n",
    "print(f'Total data: {len(series)}')"
   ]
  },
  {
   "cell_type": "code",
   "execution_count": 7,
   "id": "superior-fireplace",
   "metadata": {},
   "outputs": [],
   "source": [
    "series_per = data_proportion(series, percent=1)"
   ]
  },
  {
   "cell_type": "code",
   "execution_count": 8,
   "id": "ahead-detail",
   "metadata": {},
   "outputs": [
    {
     "name": "stdout",
     "output_type": "stream",
     "text": [
      "Percentage data: 184782\n"
     ]
    }
   ],
   "source": [
    "print(f'Percentage data: {len(series_per)}')"
   ]
  },
  {
   "cell_type": "code",
   "execution_count": 9,
   "id": "isolated-documentation",
   "metadata": {},
   "outputs": [
    {
     "name": "stdout",
     "output_type": "stream",
     "text": [
      "Training 110870, Teste 73912\n"
     ]
    }
   ],
   "source": [
    "#split data\n",
    "train, test = split_to_train_test(series_per, test_percent=0.40)\n",
    "print('Training %d, Teste %d' % (len(train), len(test)))"
   ]
  },
  {
   "cell_type": "code",
   "execution_count": 10,
   "id": "removable-closer",
   "metadata": {},
   "outputs": [],
   "source": [
    "train.to_csv('2000_2021_Brazilian_North_Region_hourly_MWmed_hydroelectric_power_series_train.csv',)"
   ]
  },
  {
   "cell_type": "code",
   "execution_count": 11,
   "id": "opponent-fleet",
   "metadata": {},
   "outputs": [],
   "source": [
    "test.to_csv('2000_2021_Brazilian_North_Region_hourly_MWmed_hydroelectric_power_series_test.csv',)"
   ]
  }
 ],
 "metadata": {
  "kernelspec": {
   "display_name": "Python 3",
   "language": "python",
   "name": "python3"
  },
  "language_info": {
   "codemirror_mode": {
    "name": "ipython",
    "version": 3
   },
   "file_extension": ".py",
   "mimetype": "text/x-python",
   "name": "python",
   "nbconvert_exporter": "python",
   "pygments_lexer": "ipython3",
   "version": "3.7.7"
  }
 },
 "nbformat": 4,
 "nbformat_minor": 5
}
