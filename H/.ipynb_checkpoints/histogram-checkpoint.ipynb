{
 "cells": [
  {
   "cell_type": "code",
   "execution_count": 1,
   "id": "stuck-drive",
   "metadata": {},
   "outputs": [],
   "source": [
    "from dateutil.parser import parse \n",
    "import matplotlib as mpl\n",
    "import matplotlib.pyplot as plt\n",
    "import seaborn as sns\n",
    "import numpy as np\n",
    "import pandas as pd\n",
    "#plt.rcParams.update({'figure.figsize': (10, 7), 'figure.dpi': 120})\n",
    "\n",
    "import scipy.stats as stats\n",
    "from scipy.stats import normaltest\n",
    "from scipy.stats import kurtosis\n",
    "from scipy.stats import skew\n"
   ]
  },
  {
   "cell_type": "code",
   "execution_count": 2,
   "id": "boxed-northeast",
   "metadata": {},
   "outputs": [],
   "source": [
    "def check_normalteste(series):\n",
    "    #calculate\n",
    "    stat, p = normaltest(series)\n",
    "    print (f'Statistic={stat}, p={p}')\n",
    "    print ('--'*25) \n",
    "\n",
    "    # interpret\n",
    "    alpha = 0.05\n",
    "    if p > alpha:\n",
    "        print('Sample looks Gaussian (fail to reject H0)')\n",
    "    else:\n",
    "        print('Sample does not look Gaussian (reject H0)')"
   ]
  },
  {
   "cell_type": "code",
   "execution_count": 3,
   "id": "dominant-agreement",
   "metadata": {},
   "outputs": [],
   "source": [
    "#Calculating Skew and Kurtosis \n",
    "def skew_kurtosis(series):\n",
    "    k = round((kurtosis(series)), ndigits=3)\n",
    "    s = round((skew(series)), ndigits=3)\n",
    "\n",
    "    #Interpreting Skew \n",
    "    if -0.5 < s < 0.5:\n",
    "        print (f'\\nA skew of {s} means the distribution is approx. symmetric')\n",
    "    elif  -0.5 < s < -1.0 or 0.5 < s < 1.0:\n",
    "        print (f'\\nA skew of {s} means the distribution is moderately skewed')\n",
    "    else:\n",
    "        print (f'\\nA skew of {s} means the distribution is highly skewed')\n",
    "\n",
    "    #Interpreting Kurtosis\n",
    "    if  -0.5 < k < 0.5:\n",
    "        print (f'A kurtosis of {k} means the distribution is approximately normal sometimes called mesokurtic distributions')\n",
    "    elif k <= -0.5: \n",
    "        print (f'A kurtosis of {k} means the distribution is light-tailed (negative) sometimes called a platykurtic        distributions')\n",
    "    elif k >= 0.5:\n",
    "        print (f'A kurtosis of {k} means the distribution is heavy-tailed (positive) sometimes called a leptokurtic distribution')"
   ]
  },
  {
   "cell_type": "code",
   "execution_count": 4,
   "id": "sorted-collaboration",
   "metadata": {},
   "outputs": [],
   "source": [
    "df = pd.read_csv('timeserie_train.csv', parse_dates=['data'], index_col='data')"
   ]
  },
  {
   "cell_type": "code",
   "execution_count": 5,
   "id": "unlimited-tension",
   "metadata": {},
   "outputs": [],
   "source": [
    "energia = df['energia']"
   ]
  },
  {
   "cell_type": "code",
   "execution_count": null,
   "id": "warming-advisory",
   "metadata": {},
   "outputs": [],
   "source": [
    "#Plot a Histogram of the data\n",
    "ax = sns.displot(energia, kde=True)\n",
    "ax.set(xlabel= 'Energia', ylabel='Counts', title='Frequência do NÍvel de Geração Energia')\n",
    "plt.show()\n",
    "\n",
    "check_normalteste(energia)\n",
    "skew_kurtosis(energia)"
   ]
  },
  {
   "cell_type": "code",
   "execution_count": null,
   "id": "adverse-garage",
   "metadata": {},
   "outputs": [],
   "source": [
    "ts_temp_log = np.log(energia)\n",
    "sns.displot(ts_temp_log, kde=True).set(title=\"Transformada Ln\")\n",
    "check_normalteste(ts_temp_log)\n",
    "skew_kurtosis(ts_temp_log)"
   ]
  },
  {
   "cell_type": "code",
   "execution_count": null,
   "id": "exposed-whale",
   "metadata": {},
   "outputs": [],
   "source": [
    "fitted_data, fitted_lambda = stats.boxcox(energia) \n",
    "sns.displot(fitted_data, kde=True).set(title=\"Transformada Box-Cox\")\n",
    "print(f\"Lambda: {fitted_lambda}\")\n",
    "check_normalteste(fitted_data)\n",
    "skew_kurtosis(fitted_data)"
   ]
  },
  {
   "cell_type": "code",
   "execution_count": null,
   "id": "protecting-procedure",
   "metadata": {},
   "outputs": [],
   "source": [
    "#z-score normalization \n",
    "energia_zscore = stats.zscore(energia)\n",
    "\n",
    "#calculate transformation \n",
    "energia_lbmd1  = stats.yeojohnson(energia_zscore, lmbda=0.1)\n",
    "energia_lbmd2  = stats.yeojohnson(energia_zscore, lmbda=1.5)\n",
    "\n",
    "#if you do not pass a lambda it will find the optimal lambda \n",
    "energia_lbmd3, lmbda  = stats.yeojohnson(energia_zscore)\n",
    "\n",
    "print (f'The Optimal Lambda is {lmbda}')"
   ]
  },
  {
   "cell_type": "code",
   "execution_count": null,
   "id": "further-mediterranean",
   "metadata": {},
   "outputs": [],
   "source": [
    "sns.kdeplot(energia_zscore,shade=True, label='Raw, Normalized')\n",
    "sns.kdeplot(energia_lbmd1, shade=True, label='Normalized, Lambda = 0.1')\n",
    "sns.kdeplot(energia_lbmd2, shade=True, label='Normalized, Lambda = 1.5')\n",
    "sns.kdeplot(energia_lbmd3, shade=True, label='Normalized, Lambda = 0.21')\n",
    "plt.legend(loc='upper right')"
   ]
  },
  {
   "cell_type": "code",
   "execution_count": null,
   "id": "steady-optimum",
   "metadata": {},
   "outputs": [],
   "source": [
    "check_normalteste(energia_lbmd3)\n",
    "skew_kurtosis(energia_lbmd3)"
   ]
  },
  {
   "cell_type": "code",
   "execution_count": null,
   "id": "young-circle",
   "metadata": {},
   "outputs": [],
   "source": [
    "sns.kdeplot(energia, shade=True)\n"
   ]
  },
  {
   "cell_type": "code",
   "execution_count": null,
   "id": "starting-qatar",
   "metadata": {},
   "outputs": [],
   "source": [
    "\n",
    "sns.kdeplot(fitted_data, shade=True)\n"
   ]
  },
  {
   "cell_type": "code",
   "execution_count": null,
   "id": "understanding-narrow",
   "metadata": {},
   "outputs": [],
   "source": [
    "fitted_data"
   ]
  },
  {
   "cell_type": "code",
   "execution_count": null,
   "id": "moral-trader",
   "metadata": {},
   "outputs": [],
   "source": [
    "def get_bins(serie):\n",
    "    q25, q75 = np.percentile(serie,[.25,.75])\n",
    "    bin_width = 2*(q75 - q25)*len(serie)**(-1/3)\n",
    "    return round((serie.max() - serie.min())/bin_width)"
   ]
  },
  {
   "cell_type": "code",
   "execution_count": null,
   "id": "indonesian-penguin",
   "metadata": {},
   "outputs": [],
   "source": [
    "csv_path = 'timeserie_train.csv'\n",
    "data =  pd.read_csv(csv_path,dtype = {'Data':str,'Consumo':np.float64})\n",
    "bins = get_bins(energia)"
   ]
  },
  {
   "cell_type": "code",
   "execution_count": null,
   "id": "accessory-cuisine",
   "metadata": {},
   "outputs": [],
   "source": [
    "sns.histplot(energia,stat='density',bins = get_bins(energia),kde =True)"
   ]
  },
  {
   "cell_type": "code",
   "execution_count": null,
   "id": "spiritual-steam",
   "metadata": {},
   "outputs": [],
   "source": [
    "serie = np.asarray(df['energia'].values)"
   ]
  },
  {
   "cell_type": "code",
   "execution_count": null,
   "id": "certain-diamond",
   "metadata": {},
   "outputs": [],
   "source": [
    "b_c= stats.boxcox(serie)"
   ]
  },
  {
   "cell_type": "code",
   "execution_count": null,
   "id": "silver-mambo",
   "metadata": {},
   "outputs": [],
   "source": [
    "new_series = pd.DataFrame(b_c[0],columns=['Consumo'])"
   ]
  },
  {
   "cell_type": "code",
   "execution_count": null,
   "id": "isolated-simpson",
   "metadata": {},
   "outputs": [],
   "source": [
    "sns.histplot(new_series,stat='density',bins = get_bins(new_series['Consumo']),kde =True)"
   ]
  },
  {
   "cell_type": "code",
   "execution_count": null,
   "id": "tamil-corrections",
   "metadata": {},
   "outputs": [],
   "source": []
  },
  {
   "cell_type": "code",
   "execution_count": null,
   "id": "unable-sodium",
   "metadata": {},
   "outputs": [],
   "source": []
  }
 ],
 "metadata": {
  "kernelspec": {
   "display_name": "Python 3",
   "language": "python",
   "name": "python3"
  },
  "language_info": {
   "codemirror_mode": {
    "name": "ipython",
    "version": 3
   },
   "file_extension": ".py",
   "mimetype": "text/x-python",
   "name": "python",
   "nbconvert_exporter": "python",
   "pygments_lexer": "ipython3",
   "version": "3.7.7"
  }
 },
 "nbformat": 4,
 "nbformat_minor": 5
}
