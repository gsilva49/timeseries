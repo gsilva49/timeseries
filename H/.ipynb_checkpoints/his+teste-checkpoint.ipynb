{
 "cells": [
  {
   "cell_type": "code",
   "execution_count": null,
   "id": "responsible-rapid",
   "metadata": {},
   "outputs": [],
   "source": [
    "from dateutil.parser import parse \n",
    "import matplotlib as mpl\n",
    "import matplotlib.pyplot as plt\n",
    "import seaborn as sns\n",
    "import numpy as np\n",
    "import pandas as pd\n",
    "#plt.rcParams.update({'figure.figsize': (10, 7), 'figure.dpi': 120})\n",
    "\n",
    "from statsmodels.tsa.stattools import adfuller\n",
    "from statsmodels.tsa.stattools import kpss\n",
    "\n"
   ]
  },
  {
   "cell_type": "code",
   "execution_count": null,
   "id": "south-province",
   "metadata": {},
   "outputs": [],
   "source": [
    "def check_normalteste(series):\n",
    "    #calculate\n",
    "    stat, p = normaltest(series)\n",
    "    print (f'Statistic={stat}, p={p}')\n",
    "    print ('--'*25) \n",
    "\n",
    "    # interpret\n",
    "    alpha = 0.05\n",
    "    if p > alpha:\n",
    "        print('Sample looks Gaussian (fail to reject H0)')\n",
    "    else:\n",
    "        print('Sample does not look Gaussian (reject H0)')"
   ]
  },
  {
   "cell_type": "code",
   "execution_count": null,
   "id": "transparent-mother",
   "metadata": {},
   "outputs": [],
   "source": [
    "def rolling_mean(timeseries):\n",
    "    #Determing rolling statistics\n",
    "    rolmean = timeseries.rolling(24*365).mean()\n",
    "    rolstd = timeseries.rolling(24*365).std()\n",
    "\n",
    "    #Plot rolling statistics:\n",
    "    orig = plt.plot(timeseries, color='blue',label='Original')\n",
    "    mean = plt.plot(rolmean, color='red', label='Rolling Mean')\n",
    "    std = plt.plot(rolstd, color='black', label = 'Rolling Std')\n",
    "    plt.legend(loc='best')\n",
    "    plt.title('Rolling Mean & Standard Deviation')\n",
    "    plt.show(block=False)"
   ]
  },
  {
   "cell_type": "code",
   "execution_count": null,
   "id": "accurate-denial",
   "metadata": {},
   "outputs": [],
   "source": [
    "def test_stationarity(timeseries): \n",
    "    # ADF Test\n",
    "    print('Results of Dickey-Fuller Test:')\n",
    "    result = adfuller(timeseries, autolag='AIC')\n",
    "    print(f'ADF Statistic: {result[0]}')\n",
    "    print(f'p-value: {result[1]}')\n",
    "    for key, value in result[4].items():\n",
    "        print('Critial Values:')\n",
    "        print(f'   {key}, {value}')\n",
    "\n",
    "    # KPSS Test\n",
    "    print('\\nResults of KPSS Test:')\n",
    "    result = kpss(timeseries, regression='c')\n",
    "    print('KPSS Statistic: %f' % result[0])\n",
    "    print('p-value: %f' % result[1])\n",
    "    for key, value in result[3].items():\n",
    "        print('Critial Values:')\n",
    "        print(f'   {key}, {value}')"
   ]
  },
  {
   "cell_type": "code",
   "execution_count": null,
   "id": "mediterranean-invasion",
   "metadata": {},
   "outputs": [],
   "source": [
    "df = pd.read_csv('2000_2021_Brazilian_North_Region_hourly_MWmed_hydroelectric_power_series_train.csv', parse_dates=['data'], index_col='data')"
   ]
  },
  {
   "cell_type": "code",
   "execution_count": null,
   "id": "continued-friendly",
   "metadata": {},
   "outputs": [],
   "source": [
    "energia = df['energia']"
   ]
  },
  {
   "cell_type": "code",
   "execution_count": null,
   "id": "proud-arnold",
   "metadata": {},
   "outputs": [],
   "source": [
    "rolling_mean(df)\n",
    "test_stationarity(df)"
   ]
  },
  {
   "cell_type": "code",
   "execution_count": null,
   "id": "aerial-index",
   "metadata": {},
   "outputs": [],
   "source": [
    "from arch.unitroot import ADF\n",
    "adf = ADF(df)\n",
    "print(adf.summary().as_text())\n",
    "\n",
    "from arch.unitroot import DFGLS\n",
    "dfgls = DFGLS(df)\n",
    "print(dfgls.summary().as_text())\n",
    "\n",
    "from arch.unitroot import PhillipsPerron\n",
    "pp = PhillipsPerron(df)\n",
    "print(pp.summary().as_text())\n",
    "\n",
    "from arch.unitroot import KPSS\n",
    "kpss = KPSS(df)\n",
    "print(kpss.summary().as_text())"
   ]
  },
  {
   "cell_type": "code",
   "execution_count": null,
   "id": "advance-province",
   "metadata": {},
   "outputs": [],
   "source": [
    "df[\"energia\"] = np.log(df[\"energia\"])\n",
    "rolling_mean(df)\n",
    "test_stationarity(df)"
   ]
  },
  {
   "cell_type": "code",
   "execution_count": null,
   "id": "primary-decision",
   "metadata": {},
   "outputs": [],
   "source": [
    "from arch.unitroot import ADF\n",
    "adf = ADF(ts_log)\n",
    "print(adf.summary().as_text())\n",
    "\n",
    "from arch.unitroot import PhillipsPerron\n",
    "pp = PhillipsPerron(ts_log)\n",
    "print(pp.summary().as_text())\n",
    "\n",
    "from arch.unitroot import KPSS\n",
    "kpss = KPSS(ts_log)\n",
    "print(kpss.summary().as_text())"
   ]
  },
  {
   "cell_type": "code",
   "execution_count": null,
   "id": "false-edition",
   "metadata": {},
   "outputs": [],
   "source": [
    "fitted_data, fitted_lambda = stats.boxcox(energia) \n",
    "rolling_mean(pd.DataFrame(fitted_data))\n",
    "test_stationarity(fitted_data)"
   ]
  },
  {
   "cell_type": "code",
   "execution_count": null,
   "id": "helpful-guarantee",
   "metadata": {},
   "outputs": [],
   "source": [
    "from arch.unitroot import ADF\n",
    "adf = ADF(fitted_data)\n",
    "print(adf.summary().as_text())\n",
    "\n",
    "from arch.unitroot import PhillipsPerron\n",
    "pp = PhillipsPerron(fitted_data)\n",
    "print(pp.summary().as_text())\n",
    "\n",
    "from arch.unitroot import KPSS\n",
    "kpss = KPSS(fitted_data)\n",
    "print(kpss.summary().as_text())"
   ]
  },
  {
   "cell_type": "code",
   "execution_count": null,
   "id": "artistic-apollo",
   "metadata": {},
   "outputs": [],
   "source": []
  },
  {
   "cell_type": "code",
   "execution_count": null,
   "id": "cubic-banks",
   "metadata": {},
   "outputs": [],
   "source": []
  },
  {
   "cell_type": "code",
   "execution_count": null,
   "id": "united-dispute",
   "metadata": {},
   "outputs": [],
   "source": []
  },
  {
   "cell_type": "code",
   "execution_count": null,
   "id": "antique-player",
   "metadata": {},
   "outputs": [],
   "source": []
  }
 ],
 "metadata": {
  "kernelspec": {
   "display_name": "Python 3",
   "language": "python",
   "name": "python3"
  },
  "language_info": {
   "codemirror_mode": {
    "name": "ipython",
    "version": 3
   },
   "file_extension": ".py",
   "mimetype": "text/x-python",
   "name": "python",
   "nbconvert_exporter": "python",
   "pygments_lexer": "ipython3",
   "version": "3.7.7"
  }
 },
 "nbformat": 4,
 "nbformat_minor": 5
}
