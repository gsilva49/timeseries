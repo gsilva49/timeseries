{
 "cells": [
  {
   "cell_type": "code",
   "execution_count": 2,
   "id": "incoming-savage",
   "metadata": {},
   "outputs": [],
   "source": [
    "from dateutil.parser import parse \n",
    "import matplotlib as mpl\n",
    "import matplotlib.pyplot as plt\n",
    "import seaborn as sns\n",
    "import numpy as np\n",
    "import pandas as pd\n",
    "#plt.rcParams.update({'figure.figsize': (10, 7), 'figure.dpi': 120})\n",
    "\n",
    "from statsmodels.tsa.stattools import adfuller\n",
    "from statsmodels.tsa.stattools import kpss\n",
    "\n"
   ]
  },
  {
   "cell_type": "code",
   "execution_count": 3,
   "id": "atmospheric-corps",
   "metadata": {},
   "outputs": [],
   "source": [
    "def check_normalteste(series):\n",
    "    #calculate\n",
    "    stat, p = normaltest(series)\n",
    "    print (f'Statistic={stat}, p={p}')\n",
    "    print ('--'*25) \n",
    "\n",
    "    # interpret\n",
    "    alpha = 0.05\n",
    "    if p > alpha:\n",
    "        print('Sample looks Gaussian (fail to reject H0)')\n",
    "    else:\n",
    "        print('Sample does not look Gaussian (reject H0)')"
   ]
  },
  {
   "cell_type": "code",
   "execution_count": 4,
   "id": "altered-shower",
   "metadata": {},
   "outputs": [],
   "source": [
    "def rolling_mean(timeseries):\n",
    "    #Determing rolling statistics\n",
    "    rolmean = timeseries.rolling(24*365).mean()\n",
    "    rolstd = timeseries.rolling(24*365).std()\n",
    "\n",
    "    #Plot rolling statistics:\n",
    "    orig = plt.plot(timeseries, color='blue',label='Original')\n",
    "    mean = plt.plot(rolmean, color='red', label='Rolling Mean')\n",
    "    std = plt.plot(rolstd, color='black', label = 'Rolling Std')\n",
    "    plt.legend(loc='best')\n",
    "    plt.title('Rolling Mean & Standard Deviation')\n",
    "    plt.show(block=False)"
   ]
  },
  {
   "cell_type": "code",
   "execution_count": 5,
   "id": "exempt-sword",
   "metadata": {},
   "outputs": [],
   "source": [
    "def test_stationarity(timeseries): \n",
    "    # ADF Test\n",
    "    print('Results of Dickey-Fuller Test:')\n",
    "    result = adfuller(timeseries, autolag='AIC')\n",
    "    print(f'ADF Statistic: {result[0]}')\n",
    "    print(f'p-value: {result[1]}')\n",
    "    for key, value in result[4].items():\n",
    "        print('Critial Values:')\n",
    "        print(f'   {key}, {value}')\n",
    "\n",
    "    # KPSS Test\n",
    "    print('\\nResults of KPSS Test:')\n",
    "    result = kpss(timeseries, regression='c')\n",
    "    print('KPSS Statistic: %f' % result[0])\n",
    "    print('p-value: %f' % result[1])\n",
    "    for key, value in result[3].items():\n",
    "        print('Critial Values:')\n",
    "        print(f'   {key}, {value}')"
   ]
  },
  {
   "cell_type": "code",
   "execution_count": 8,
   "id": "intelligent-proxy",
   "metadata": {},
   "outputs": [],
   "source": [
    "df = pd.read_csv('timeserie_train.csv', parse_dates=['data'], index_col='data')"
   ]
  },
  {
   "cell_type": "code",
   "execution_count": 9,
   "id": "diagnostic-ticket",
   "metadata": {},
   "outputs": [],
   "source": [
    "energia = df['energia']"
   ]
  },
  {
   "cell_type": "code",
   "execution_count": 10,
   "id": "living-sequence",
   "metadata": {},
   "outputs": [
    {
     "data": {
      "image/png": "[encoded data removed]",
      "text/plain": [
       "<Figure size 432x288 with 1 Axes>"
      ]
     },
     "metadata": {
      "needs_background": "light"
     },
     "output_type": "display_data"
    },
    {
     "name": "stdout",
     "output_type": "stream",
     "text": [
      "Results of Dickey-Fuller Test:\n",
      "ADF Statistic: -5.779569636396229\n",
      "p-value: 5.163572272797296e-07\n",
      "Critial Values:\n",
      "   1%, -3.4304090208531304\n",
      "Critial Values:\n",
      "   5%, -2.8615660863204235\n",
      "Critial Values:\n",
      "   10%, -2.5667838848306594\n",
      "\n",
      "Results of KPSS Test:\n",
      "KPSS Statistic: 32.471183\n",
      "p-value: 0.010000\n",
      "Critial Values:\n",
      "   10%, 0.347\n",
      "Critial Values:\n",
      "   5%, 0.463\n",
      "Critial Values:\n",
      "   2.5%, 0.574\n",
      "Critial Values:\n",
      "   1%, 0.739\n"
     ]
    },
    {
     "name": "stderr",
     "output_type": "stream",
     "text": [
      "/Users/nivaldogomes-labcodes/Documents/Dropbox/My Mac (Home-Nivaldos-MacBook-Pro.local)/Documents/1 - Projetos/modelagem analitica/.env/lib/python3.7/site-packages/statsmodels/tsa/stattools.py:1875: FutureWarning: The behavior of using nlags=None will change in release 0.13.Currently nlags=None is the same as nlags=\"legacy\", and so a sample-size lag length is used. After the next release, the default will change to be the same as nlags=\"auto\" which uses an automatic lag length selection method. To silence this warning, either use \"auto\" or \"legacy\"\n",
      "  warnings.warn(msg, FutureWarning)\n",
      "/Users/nivaldogomes-labcodes/Documents/Dropbox/My Mac (Home-Nivaldos-MacBook-Pro.local)/Documents/1 - Projetos/modelagem analitica/.env/lib/python3.7/site-packages/statsmodels/tsa/stattools.py:1907: InterpolationWarning: The test statistic is outside of the range of p-values available in the\n",
      "look-up table. The actual p-value is smaller than the p-value returned.\n",
      "\n",
      "  warn_msg.format(direction=\"smaller\"), InterpolationWarning\n"
     ]
    }
   ],
   "source": [
    "rolling_mean(df)\n",
    "test_stationarity(df)"
   ]
  },
  {
   "cell_type": "code",
   "execution_count": 11,
   "id": "decent-salad",
   "metadata": {},
   "outputs": [
    {
     "name": "stdout",
     "output_type": "stream",
     "text": [
      "   Augmented Dickey-Fuller Results   \n",
      "=====================================\n",
      "Test Statistic                 -5.780\n",
      "P-value                         0.000\n",
      "Lags                               70\n",
      "-------------------------------------\n",
      "\n",
      "Trend: Constant\n",
      "Critical Values: -3.43 (1%), -2.86 (5%), -2.57 (10%)\n",
      "Null Hypothesis: The process contains a unit root.\n",
      "Alternative Hypothesis: The process is weakly stationary.\n",
      "      Dickey-Fuller GLS Results      \n",
      "=====================================\n",
      "Test Statistic                 -4.051\n",
      "P-value                         0.000\n",
      "Lags                               70\n",
      "-------------------------------------\n",
      "\n",
      "Trend: Constant\n",
      "Critical Values: -2.57 (1%), -1.94 (5%), -1.62 (10%)\n",
      "Null Hypothesis: The process contains a unit root.\n",
      "Alternative Hypothesis: The process is weakly stationary.\n",
      "     Phillips-Perron Test (Z-tau)    \n",
      "=====================================\n",
      "Test Statistic                -18.606\n",
      "P-value                         0.000\n",
      "Lags                               70\n",
      "-------------------------------------\n",
      "\n",
      "Trend: Constant\n",
      "Critical Values: -3.43 (1%), -2.86 (5%), -2.57 (10%)\n",
      "Null Hypothesis: The process contains a unit root.\n",
      "Alternative Hypothesis: The process is weakly stationary.\n",
      "    KPSS Stationarity Test Results   \n",
      "=====================================\n",
      "Test Statistic                 12.339\n",
      "P-value                         0.000\n",
      "Lags                              191\n",
      "-------------------------------------\n",
      "\n",
      "Trend: Constant\n",
      "Critical Values: 0.74 (1%), 0.46 (5%), 0.35 (10%)\n",
      "Null Hypothesis: The process is weakly stationary.\n",
      "Alternative Hypothesis: The process contains a unit root.\n"
     ]
    }
   ],
   "source": [
    "from arch.unitroot import ADF\n",
    "adf = ADF(df)\n",
    "print(adf.summary().as_text())\n",
    "\n",
    "from arch.unitroot import DFGLS\n",
    "dfgls = DFGLS(df)\n",
    "print(dfgls.summary().as_text())\n",
    "\n",
    "from arch.unitroot import PhillipsPerron\n",
    "pp = PhillipsPerron(df)\n",
    "print(pp.summary().as_text())\n",
    "\n",
    "from arch.unitroot import KPSS\n",
    "kpss = KPSS(df)\n",
    "print(kpss.summary().as_text())"
   ]
  },
  {
   "cell_type": "code",
   "execution_count": null,
   "id": "ready-explosion",
   "metadata": {},
   "outputs": [],
   "source": [
    "df[\"energia\"] = np.log(df[\"energia\"])\n",
    "rolling_mean(df)\n",
    "test_stationarity(df)"
   ]
  },
  {
   "cell_type": "code",
   "execution_count": 1,
   "id": "pediatric-mandate",
   "metadata": {},
   "outputs": [
    {
     "ename": "NameError",
     "evalue": "name 'ts_log' is not defined",
     "output_type": "error",
     "traceback": [
      "\u001b[0;31m---------------------------------------------------------------------------\u001b[0m",
      "\u001b[0;31mNameError\u001b[0m                                 Traceback (most recent call last)",
      "\u001b[0;32m<ipython-input-1-26c9fbb5ca60>\u001b[0m in \u001b[0;36m<module>\u001b[0;34m\u001b[0m\n\u001b[1;32m      1\u001b[0m \u001b[0;32mfrom\u001b[0m \u001b[0march\u001b[0m\u001b[0;34m.\u001b[0m\u001b[0munitroot\u001b[0m \u001b[0;32mimport\u001b[0m \u001b[0mADF\u001b[0m\u001b[0;34m\u001b[0m\u001b[0;34m\u001b[0m\u001b[0m\n\u001b[0;32m----> 2\u001b[0;31m \u001b[0madf\u001b[0m \u001b[0;34m=\u001b[0m \u001b[0mADF\u001b[0m\u001b[0;34m(\u001b[0m\u001b[0mts_log\u001b[0m\u001b[0;34m)\u001b[0m\u001b[0;34m\u001b[0m\u001b[0;34m\u001b[0m\u001b[0m\n\u001b[0m\u001b[1;32m      3\u001b[0m \u001b[0mprint\u001b[0m\u001b[0;34m(\u001b[0m\u001b[0madf\u001b[0m\u001b[0;34m.\u001b[0m\u001b[0msummary\u001b[0m\u001b[0;34m(\u001b[0m\u001b[0;34m)\u001b[0m\u001b[0;34m.\u001b[0m\u001b[0mas_text\u001b[0m\u001b[0;34m(\u001b[0m\u001b[0;34m)\u001b[0m\u001b[0;34m)\u001b[0m\u001b[0;34m\u001b[0m\u001b[0;34m\u001b[0m\u001b[0m\n\u001b[1;32m      4\u001b[0m \u001b[0;34m\u001b[0m\u001b[0m\n\u001b[1;32m      5\u001b[0m \u001b[0;32mfrom\u001b[0m \u001b[0march\u001b[0m\u001b[0;34m.\u001b[0m\u001b[0munitroot\u001b[0m \u001b[0;32mimport\u001b[0m \u001b[0mPhillipsPerron\u001b[0m\u001b[0;34m\u001b[0m\u001b[0;34m\u001b[0m\u001b[0m\n",
      "\u001b[0;31mNameError\u001b[0m: name 'ts_log' is not defined"
     ]
    }
   ],
   "source": [
    "from arch.unitroot import ADF\n",
    "adf = ADF(ts_log)\n",
    "print(adf.summary().as_text())\n",
    "\n",
    "from arch.unitroot import PhillipsPerron\n",
    "pp = PhillipsPerron(ts_log)\n",
    "print(pp.summary().as_text())\n",
    "\n",
    "from arch.unitroot import KPSS\n",
    "kpss = KPSS(ts_log)\n",
    "print(kpss.summary().as_text())"
   ]
  },
  {
   "cell_type": "code",
   "execution_count": null,
   "id": "involved-reader",
   "metadata": {},
   "outputs": [],
   "source": [
    "fitted_data, fitted_lambda = stats.boxcox(energia) \n",
    "rolling_mean(pd.DataFrame(fitted_data))\n",
    "test_stationarity(fitted_data)"
   ]
  },
  {
   "cell_type": "code",
   "execution_count": null,
   "id": "royal-juice",
   "metadata": {},
   "outputs": [],
   "source": [
    "from arch.unitroot import ADF\n",
    "adf = ADF(fitted_data)\n",
    "print(adf.summary().as_text())\n",
    "\n",
    "from arch.unitroot import PhillipsPerron\n",
    "pp = PhillipsPerron(fitted_data)\n",
    "print(pp.summary().as_text())\n",
    "\n",
    "from arch.unitroot import KPSS\n",
    "kpss = KPSS(fitted_data)\n",
    "print(kpss.summary().as_text())"
   ]
  },
  {
   "cell_type": "code",
   "execution_count": null,
   "id": "foster-dragon",
   "metadata": {},
   "outputs": [],
   "source": []
  },
  {
   "cell_type": "code",
   "execution_count": null,
   "id": "designed-riverside",
   "metadata": {},
   "outputs": [],
   "source": []
  },
  {
   "cell_type": "code",
   "execution_count": null,
   "id": "conceptual-reason",
   "metadata": {},
   "outputs": [],
   "source": []
  },
  {
   "cell_type": "code",
   "execution_count": null,
   "id": "scientific-acrylic",
   "metadata": {},
   "outputs": [],
   "source": []
  }
 ],
 "metadata": {
  "kernelspec": {
   "display_name": "Python 3",
   "language": "python",
   "name": "python3"
  },
  "language_info": {
   "codemirror_mode": {
    "name": "ipython",
    "version": 3
   },
   "file_extension": ".py",
   "mimetype": "text/x-python",
   "name": "python",
   "nbconvert_exporter": "python",
   "pygments_lexer": "ipython3",
   "version": "3.7.7"
  }
 },
 "nbformat": 4,
 "nbformat_minor": 5
}
