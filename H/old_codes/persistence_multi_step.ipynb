{
 "cells": [
  {
   "cell_type": "code",
   "execution_count": 24,
   "id": "homeless-neutral",
   "metadata": {},
   "outputs": [],
   "source": [
    "# Evaluate a univariate persistence model\n",
    "from pandas import read_csv\n",
    "from sklearn.metrics import mean_squared_error\n",
    "from math import sqrt\n",
    "from matplotlib import pyplot as plt\n",
    "from pandas import concat\n",
    "import numpy as np\n",
    "import scipy.stats as stats\n",
    "import pandas as pd\n",
    "\n",
    "plt.rcParams.update({'figure.figsize': (10, 7), 'figure.dpi': 120})\n"
   ]
  },
  {
   "cell_type": "code",
   "execution_count": 11,
   "id": "constant-ground",
   "metadata": {},
   "outputs": [],
   "source": [
    "# Plot the forecasts in the context of the original dataset\n",
    "def plot_forecasts(series, forecasts, test):\n",
    "    # Plot the entire dataset in blue\n",
    "    plt.plot(series)\n",
    "    # Plot the forecasts in red\n",
    "    for i in range(len(forecasts)):\n",
    "        # Start offset for x-axis\n",
    "        off_s = len(series) - len(test) + i - 1\n",
    "        # End offset for x-axis\n",
    "        off_e = off_s + len(forecasts[i]) + 1\n",
    "        # Indexes of x-axis for multi-step forecasts\n",
    "        xaxis = [x for x in range(off_s, off_e)]\n",
    "        # Values of muti-step fotecasts\n",
    "        yaxis = [series[off_s]] + forecasts[i]  \n",
    "        plt.plot(xaxis, yaxis, color='red')\n",
    "    # Show the final plot\n",
    "    plt.show()          "
   ]
  },
  {
   "cell_type": "code",
   "execution_count": 12,
   "id": "conventional-berry",
   "metadata": {},
   "outputs": [],
   "source": [
    "# Evaluate the RMSE for each forecast time step\n",
    "def evaluate_forecasts(test, forecasts, n_steps):\n",
    "    for i in range(n_steps):\n",
    "        # Picking the values from multi-step forecasts\n",
    "        ypred_ts = [forecast[i] for forecast in forecasts]\n",
    "        # Sliding window on test series\n",
    "        ytrue_ts = test[i:len(ypred_ts)+i]\n",
    "        print('t+%d RMSE: %f' % ((i+1), sqrt(mean_squared_error(ytrue_ts, ypred_ts))))"
   ]
  },
  {
   "cell_type": "code",
   "execution_count": 13,
   "id": "chicken-implementation",
   "metadata": {},
   "outputs": [],
   "source": [
    "# Make a multi-step persistence forecast\n",
    "def persistence(last_ob, n_steps):\n",
    "    return [last_ob for i in range(n_steps)]\n"
   ]
  },
  {
   "cell_type": "code",
   "execution_count": 25,
   "id": "respective-canon",
   "metadata": {},
   "outputs": [],
   "source": [
    "# Load data\n",
    "train = read_csv('2000_2021_Brazilian_North_Region_hourly_MWmed_hydroelectric_power_series_train.csv',\n",
    "                     header=0, index_col=0, parse_dates=True, squeeze=True)\n",
    "test = read_csv('2000_2021_Brazilian_North_Region_hourly_MWmed_hydroelectric_power_series_test.csv',\n",
    "                     header=0, index_col=0, parse_dates=True, squeeze=True)"
   ]
  },
  {
   "cell_type": "code",
   "execution_count": 22,
   "id": "fantastic-hypothetical",
   "metadata": {},
   "outputs": [
    {
     "ename": "NameError",
     "evalue": "name 'pd' is not defined",
     "output_type": "error",
     "traceback": [
      "\u001b[0;31m---------------------------------------------------------------------------\u001b[0m",
      "\u001b[0;31mNameError\u001b[0m                                 Traceback (most recent call last)",
      "\u001b[0;32m<ipython-input-22-598ce33871b0>\u001b[0m in \u001b[0;36m<module>\u001b[0;34m\u001b[0m\n\u001b[1;32m      1\u001b[0m \u001b[0;31m# Concatenate train/test series for plotting\u001b[0m\u001b[0;34m\u001b[0m\u001b[0;34m\u001b[0m\u001b[0;34m\u001b[0m\u001b[0m\n\u001b[0;32m----> 2\u001b[0;31m \u001b[0mseries\u001b[0m \u001b[0;34m=\u001b[0m \u001b[0mconcat\u001b[0m\u001b[0;34m(\u001b[0m\u001b[0;34m[\u001b[0m\u001b[0mpd\u001b[0m\u001b[0;34m.\u001b[0m\u001b[0mSeries\u001b[0m\u001b[0;34m(\u001b[0m\u001b[0mtrain\u001b[0m\u001b[0;34m)\u001b[0m\u001b[0;34m,\u001b[0m \u001b[0mpd\u001b[0m\u001b[0;34m.\u001b[0m\u001b[0mSeries\u001b[0m\u001b[0;34m(\u001b[0m\u001b[0mtest\u001b[0m\u001b[0;34m)\u001b[0m\u001b[0;34m]\u001b[0m\u001b[0;34m,\u001b[0m \u001b[0maxis\u001b[0m\u001b[0;34m=\u001b[0m\u001b[0;36m0\u001b[0m\u001b[0;34m)\u001b[0m\u001b[0;34m\u001b[0m\u001b[0;34m\u001b[0m\u001b[0m\n\u001b[0m\u001b[1;32m      3\u001b[0m \u001b[0;31m# Prepare data\u001b[0m\u001b[0;34m\u001b[0m\u001b[0;34m\u001b[0m\u001b[0;34m\u001b[0m\u001b[0m\n\u001b[1;32m      4\u001b[0m \u001b[0mtest\u001b[0m \u001b[0;34m=\u001b[0m \u001b[0mtest\u001b[0m\u001b[0;34m.\u001b[0m\u001b[0mvalues\u001b[0m\u001b[0;34m\u001b[0m\u001b[0;34m\u001b[0m\u001b[0m\n\u001b[1;32m      5\u001b[0m \u001b[0mseries\u001b[0m \u001b[0;34m=\u001b[0m \u001b[0mseries\u001b[0m\u001b[0;34m.\u001b[0m\u001b[0mvalues\u001b[0m\u001b[0;34m\u001b[0m\u001b[0;34m\u001b[0m\u001b[0m\n",
      "\u001b[0;31mNameError\u001b[0m: name 'pd' is not defined"
     ]
    }
   ],
   "source": [
    "# Concatenate train/test series for plotting\n",
    "series = concat([train, test], axis=0)\n",
    "# Prepare data\n",
    "test = test.values\n",
    "series = series.values\n",
    "train = [x for x in train]\n",
    "# Number of multi-step\n",
    "n_steps = 24\n",
    "# Store multi-step forecasts\n",
    "forecasts = list()\n",
    "# Number of multi-step forecasts\n",
    "n_forecasts = len(test) - n_steps + 1\n",
    "# Walk-forward validation\n",
    "for i in range(n_forecasts):\n",
    "    # Make a multi-step forecast\n",
    "    last_ob = train[-1]\n",
    "    yhat = persistence(last_ob, n_steps)\n",
    "    # Store the multi-step forecast\n",
    "    forecasts.append(yhat)\n",
    "    # Add actual observation to train for the next loop\n",
    "    obs = test[i]\n",
    "    train.append(obs)\n",
    "# Evaluate the forecasts\n",
    "evaluate_forecasts(test, forecasts, n_steps)\n",
    "# Plot the forecasts\n",
    "#plot_forecasts(series, forecasts, test)"
   ]
  },
  {
   "cell_type": "code",
   "execution_count": 15,
   "id": "confirmed-arthur",
   "metadata": {},
   "outputs": [],
   "source": [
    "train = np.log(train)\n",
    "test = np.log(test)"
   ]
  },
  {
   "cell_type": "code",
   "execution_count": 16,
   "id": "corresponding-launch",
   "metadata": {},
   "outputs": [
    {
     "name": "stdout",
     "output_type": "stream",
     "text": [
      "t+1 RMSE: 0.066453\n",
      "t+2 RMSE: 0.113188\n",
      "t+3 RMSE: 0.149938\n",
      "t+4 RMSE: 0.181339\n",
      "t+5 RMSE: 0.208645\n",
      "t+6 RMSE: 0.232401\n",
      "t+7 RMSE: 0.252269\n",
      "t+8 RMSE: 0.268171\n",
      "t+9 RMSE: 0.280302\n",
      "t+10 RMSE: 0.289111\n",
      "t+11 RMSE: 0.295021\n",
      "t+12 RMSE: 0.298087\n",
      "t+13 RMSE: 0.298341\n",
      "t+14 RMSE: 0.295985\n",
      "t+15 RMSE: 0.291049\n",
      "t+16 RMSE: 0.283365\n",
      "t+17 RMSE: 0.272861\n",
      "t+18 RMSE: 0.259569\n",
      "t+19 RMSE: 0.244034\n",
      "t+20 RMSE: 0.227568\n",
      "t+21 RMSE: 0.211249\n",
      "t+22 RMSE: 0.196458\n",
      "t+23 RMSE: 0.184781\n",
      "t+24 RMSE: 0.180400\n"
     ]
    }
   ],
   "source": [
    "# Concatenate train/test series for plotting\n",
    "series = concat([train, test], axis=0)\n",
    "# Prepare data\n",
    "test = test.values\n",
    "series = series.values\n",
    "train = [x for x in train]\n",
    "# Number of multi-step\n",
    "n_steps = 24\n",
    "# Store multi-step forecasts\n",
    "forecasts = list()\n",
    "# Number of multi-step forecasts\n",
    "n_forecasts = len(test) - n_steps + 1\n",
    "# Walk-forward validation\n",
    "for i in range(n_forecasts):\n",
    "    # Make a multi-step forecast\n",
    "    last_ob = train[-1]\n",
    "    yhat = persistence(last_ob, n_steps)\n",
    "    # Store the multi-step forecast\n",
    "    forecasts.append(yhat)\n",
    "    # Add actual observation to train for the next loop\n",
    "    obs = test[i]\n",
    "    train.append(obs)\n",
    "# Evaluate the forecasts\n",
    "evaluate_forecasts(test, forecasts, n_steps)\n",
    "# Plot the forecasts\n",
    "#plot_forecasts(series, forecasts, test)\n"
   ]
  },
  {
   "cell_type": "code",
   "execution_count": 26,
   "id": "formed-cedar",
   "metadata": {},
   "outputs": [],
   "source": [
    "train = stats.boxcox(train)[0]\n",
    "test = stats.boxcox(test)[0]"
   ]
  },
  {
   "cell_type": "code",
   "execution_count": 29,
   "id": "higher-aging",
   "metadata": {},
   "outputs": [
    {
     "name": "stdout",
     "output_type": "stream",
     "text": [
      "t+1 RMSE: 1.119174\n",
      "t+2 RMSE: 1.119185\n",
      "t+3 RMSE: 1.119194\n",
      "t+4 RMSE: 1.119218\n",
      "t+5 RMSE: 1.119238\n",
      "t+6 RMSE: 1.119215\n",
      "t+7 RMSE: 1.119221\n",
      "t+8 RMSE: 1.119230\n",
      "t+9 RMSE: 1.119245\n",
      "t+10 RMSE: 1.119243\n",
      "t+11 RMSE: 1.119241\n",
      "t+12 RMSE: 1.119224\n",
      "t+13 RMSE: 1.119209\n",
      "t+14 RMSE: 1.119188\n",
      "t+15 RMSE: 1.119176\n",
      "t+16 RMSE: 1.119143\n",
      "t+17 RMSE: 1.119149\n",
      "t+18 RMSE: 1.119156\n",
      "t+19 RMSE: 1.119151\n",
      "t+20 RMSE: 1.119153\n",
      "t+21 RMSE: 1.119165\n",
      "t+22 RMSE: 1.119178\n",
      "t+23 RMSE: 1.119241\n",
      "t+24 RMSE: 1.119258\n"
     ]
    }
   ],
   "source": [
    "# Concatenate train/test series for plotting\n",
    "series = concat([pd.Series(train), pd.Series(test)], axis=0)\n",
    "train = [x for x in train]\n",
    "# Number of multi-step\n",
    "n_steps = 24\n",
    "# Store multi-step forecasts\n",
    "forecasts = list()\n",
    "# Number of multi-step forecasts\n",
    "n_forecasts = len(test) - n_steps + 1\n",
    "# Walk-forward validation\n",
    "for i in range(n_forecasts):\n",
    "    # Make a multi-step forecast\n",
    "    last_ob = train[-1]\n",
    "    yhat = persistence(last_ob, n_steps)\n",
    "    # Store the multi-step forecast\n",
    "    forecasts.append(yhat)\n",
    "    # Add actual observation to train for the next loop\n",
    "    obs = test[i]\n",
    "    train.append(obs)\n",
    "# Evaluate the forecasts\n",
    "evaluate_forecasts(test, forecasts, n_steps)\n",
    "# Plot the forecasts\n",
    "#plot_forecasts(series, forecasts, test)\n"
   ]
  },
  {
   "cell_type": "code",
   "execution_count": null,
   "id": "korean-family",
   "metadata": {},
   "outputs": [],
   "source": []
  }
 ],
 "metadata": {
  "kernelspec": {
   "display_name": "Python 3",
   "language": "python",
   "name": "python3"
  },
  "language_info": {
   "codemirror_mode": {
    "name": "ipython",
    "version": 3
   },
   "file_extension": ".py",
   "mimetype": "text/x-python",
   "name": "python",
   "nbconvert_exporter": "python",
   "pygments_lexer": "ipython3",
   "version": "3.7.7"
  }
 },
 "nbformat": 4,
 "nbformat_minor": 5
}
